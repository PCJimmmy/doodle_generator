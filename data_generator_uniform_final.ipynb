{
 "cells": [
  {
   "cell_type": "markdown",
   "metadata": {},
   "source": [
    "# Data generator for kaggle google_doodles competition.\n",
    "\n",
    "https://www.kaggle.com/c/quickdraw-doodle-recognition\n",
    "\n",
    "Can take advantage of many physical cores. Provides ~0.75 per physical core speedup.\n",
    "\n",
    "This means that on kaggle kernels, it's slower - that's because in kaggle kernels, even though it says it has two cpus, it actually only has a single physical cpu, and two logical ones. But it speeds up on machines with more. Important, because on a single core, to iterate all of the available data takes ~2.5 hours. \n",
    "\n",
    "There exist 340 csv files, each row containing stroke information for drawings (doodles). In sum there are ~50M samples, and we want to turn them into batches of images and labels (one-hots) that we can feed as a generator to model fit_generator-type functions.\n",
    "\n",
    "You can do:\n",
    "\n",
    "    fnames = TRAIN_FILE_NAMES[:nclasses]\n",
    "    bfg = mp_data_generator(cores, fnames, nclasses, \n",
    "                            nrows=nclasses*rowsperclass, \n",
    "                            start_at=2_000, \n",
    "                            chunk_size=2_000, \n",
    "                            block_size=1_000, \n",
    "                            batch_size=512, \n",
    "                            image_size=64, \n",
    "                            line_width=6, \n",
    "                            elide_not_recognized=True,\n",
    "                            forever=True)\n",
    "                            \n",
    "... and `bfg` can then iterate through data x and y pairs, where x's are numpy images and y's are 1-hots. Suitable for keras or other model training."
   ]
  },
  {
   "cell_type": "code",
   "execution_count": 1,
   "metadata": {},
   "outputs": [],
   "source": [
    "import numpy as np\n",
    "import pandas as pd\n",
    "import glob\n",
    "import ast\n",
    "import os\n",
    "import cv2\n",
    "import math\n",
    "import json\n",
    "import time\n",
    "import matplotlib.pyplot as plt\n",
    "import collections\n",
    "from multiprocessing import Process, Queue\n",
    "from timeit import default_timer as timer\n",
    "from pathlib import Path"
   ]
  },
  {
   "cell_type": "markdown",
   "metadata": {},
   "source": [
    "## Create global variables we need, get sample counts for data"
   ]
  },
  {
   "cell_type": "code",
   "execution_count": 2,
   "metadata": {},
   "outputs": [
    {
     "name": "stdout",
     "output_type": "stream",
     "text": [
      "NCLASSES:340, TOTAL_SAMPLES:49707579, SAMPLES(1):134801, SAMPLES(2):327816, SAMPLES(340):49707579\n"
     ]
    }
   ],
   "source": [
    "BASE_DIR         = '/storage'\n",
    "INPUT_DIR        = '/storage/google_doodles/train'\n",
    "CACHE_DIR        = '/storage/cache'\n",
    "DATA_SIZES_FN    = '/storage/cache/data_sizes.json'\n",
    "COLUMNS          = ['countrycode', 'drawing', 'key_id', 'recognized', 'timestamp', 'word']\n",
    "TRAIN_FILE_NAMES = list(sorted(glob.glob(os.path.join(INPUT_DIR, '*.csv'))))\n",
    "ALL_WORDS        = list(sorted([Path(f).stem.replace(' ', '_') for f in TRAIN_FILE_NAMES]))\n",
    "WORDS_TO_INDEXES = { word: index for index, word in enumerate(ALL_WORDS) }\n",
    "INDEXES_TO_WORDS = { i: word for i, word in enumerate(ALL_WORDS) }\n",
    "NCLASSES         = len(ALL_WORDS)\n",
    "\n",
    "\n",
    "if not os.path.exists(CACHE_DIR):\n",
    "    os.makedirs(CACHE_DIR)\n",
    "\n",
    "    \n",
    "def class_name_from_file_name(fname):\n",
    "    return Path(fname).stem.replace(' ', '_')\n",
    "\n",
    "def file_name_from_class_name(cname):\n",
    "    fname = cname.replace('_', ' ')\n",
    "    return os.path.join(INPUT_DIR, f'{fname}.csv')\n",
    "\n",
    "def num_lines_in_file(fname):\n",
    "    with open(fname) as f:\n",
    "        for i, l in enumerate(f):\n",
    "            pass\n",
    "    return i\n",
    "\n",
    "def get_total_samples_per_file():\n",
    "    if os.path.exists(DATA_SIZES_FN):\n",
    "        with open(DATA_SIZES_FN) as f:\n",
    "            return json.load(f)\n",
    "    else:\n",
    "        data = { file: num_lines_in_file(file) for file in TRAIN_FILE_NAMES }\n",
    "        with open(DATA_SIZES_FN, 'w') as outfile:\n",
    "            json.dump(data, outfile)\n",
    "        return data\n",
    "    \n",
    "    \n",
    "DATA_SIZES = get_total_samples_per_file()\n",
    "TOTAL_SAMPLES = sum([s for s in DATA_SIZES.values()])\n",
    "\n",
    "\n",
    "def get_total_samples(num_classes=NCLASSES):\n",
    "    return sum([DATA_SIZES[s] for s in TRAIN_FILE_NAMES[0:num_classes]])\n",
    "\n",
    "print(f'NCLASSES:{NCLASSES}, TOTAL_SAMPLES:{TOTAL_SAMPLES}, SAMPLES(1):{get_total_samples(1)}, SAMPLES(2):{get_total_samples(2)}, SAMPLES({NCLASSES}):{get_total_samples(NCLASSES)}')"
   ]
  },
  {
   "cell_type": "markdown",
   "metadata": {},
   "source": [
    "## Data generation functions\n",
    "\n",
    "One giant cell, so's to make copy-n-paste easy. You'll need this and the above 2 cells to make it work.\n",
    "\n",
    "### Generator madness!\n",
    "At the end, we'll have a data generator that can step through all data file in parallel, creating x/y batch pairs of \n",
    "    * x <images>  : (batch_size, image_size, image_size, 1)\n",
    "    * y <onehots> : (batch_size, nclasses)"
   ]
  },
  {
   "cell_type": "code",
   "execution_count": 3,
   "metadata": {},
   "outputs": [],
   "source": [
    "# create a generator that iterates over the data file in chunks, processing it a bit along the way.\n",
    "\n",
    "def df_generator(filename, startat, chunk_size, elide_not_recognized):\n",
    "    iterator = pd.read_csv(filename, chunksize=chunk_size, names=COLUMNS, skiprows=startat+1, parse_dates=['timestamp'])\n",
    "    for chunk in iterator:\n",
    "        df = chunk[chunk['recognized'] == True].copy() if elide_not_recognized else chunk\n",
    "        df['word'] = df['word'].apply(lambda word: word.replace(' ', '_'))\n",
    "        df['word_index'] = df['word'].apply(lambda word: WORDS_TO_INDEXES[word])\n",
    "        df['drawing'] = df['drawing'].apply(json.loads)\n",
    "        yield df\n",
    "\n",
    "        \n",
    "\n",
    "# generator madness!\n",
    "\n",
    "def gen_forever(generator_constructor):\n",
    "    while True:\n",
    "        generator = generator_constructor()\n",
    "        for v in generator:\n",
    "            yield v\n",
    "            \n",
    "def df_gen_resequenced(df_gen, block_size):\n",
    "    acc_df = None\n",
    "    for df in df_gen:\n",
    "        acc_df = df if (acc_df is None) else pd.concat([acc_df, df])\n",
    "        if acc_df.shape[0] >= block_size:\n",
    "            ret_df = acc_df[0:block_size]\n",
    "            acc_df = acc_df[block_size:]\n",
    "            yield ret_df\n",
    "    yield acc_df\n",
    "    \n",
    "def df_gen_sampled(df_gen):\n",
    "    return (df.sample(frac=1) for df in df_gen)\n",
    "        \n",
    "def df_gen_max(df_gen, max_rows):\n",
    "    rows = 0\n",
    "    for df in df_gen:\n",
    "        rows_to_return = min(df.shape[0], max_rows - rows)\n",
    "        if rows_to_return <= 0:\n",
    "            break\n",
    "        else:\n",
    "            v = df[:rows_to_return]\n",
    "            rows += v.shape[0]\n",
    "            yield v\n",
    "            \n",
    "def df_gen_sum(df_gens):\n",
    "    return (pd.concat(class_dfs).reset_index(drop=True) for class_dfs in zip(*df_gens))\n",
    "\n",
    "\n",
    "        \n",
    "# higher-level generators - combine df_generator with the madness above...\n",
    "\n",
    "def df_file_generator_notforever(fname, nrows, start_at, chunk_size, block_size, elide_not_recognized):\n",
    "    # well - it still uses 'forever' in that it repeats, but capped at the max, \n",
    "    # which can be > # samples (in which case it shall repeat)\n",
    "    df_gen_const = lambda: df_generator(fname, start_at, chunk_size, elide_not_recognized)\n",
    "    return df_gen_max(df_gen_resequenced(gen_forever(df_gen_const), block_size), nrows)\n",
    "            \n",
    "def df_file_generator_forever(fname, nrows, start_at, chunk_size, block_size, elide_not_recognized):\n",
    "    # this is is truly forever - it repeats up to the max, over and over\n",
    "    def generator_constructor():\n",
    "        return df_file_generator_notforever(fname, nrows, start_at, chunk_size, block_size, elide_not_recognized)\n",
    "    return gen_forever(generator_constructor)\n",
    "\n",
    "def df_file_generator(fname, nrows, start_at, chunk_size, block_size, elide_not_recognized, forever):\n",
    "    if forever:\n",
    "        return df_file_generator_forever(fname, nrows, start_at, chunk_size, block_size, elide_not_recognized)\n",
    "    else:\n",
    "        return df_file_generator_notforever(fname, nrows, start_at, chunk_size, block_size, elide_not_recognized)\n",
    "\n",
    "    \n",
    "# The big kahuna! So far, anyway...\n",
    "\n",
    "def df_files_generator_uniform(fnames=TRAIN_FILE_NAMES, \n",
    "                               nclasses=NCLASSES, \n",
    "                               nrows=3_000, \n",
    "                               start_at=2_000, \n",
    "                               chunk_size=2_000, \n",
    "                               block_size=1_000, \n",
    "                               elide_not_recognized=True, \n",
    "                               forever=False):\n",
    "    '''generate over a set of files by chunk\n",
    "    \n",
    "    Args:\n",
    "        fnames ([str]): [filename]\n",
    "        nclasses (int): number of classes in total in use\n",
    "        nrows (int): number of rows to return in total\n",
    "        start_at (int): can be used to skip rows in each file, for example for validation/training data set\n",
    "        chunk_size (int): number of rows to read in each file in parallel\n",
    "        block_size (int): number of rows to yield from each file (probably < chunk_size, because it uses lots of memory and cpu)\n",
    "        elide_not_recognized (bool): whether we should skip the not_recognized rows\n",
    "        forever (bool): whether this should generate forever\n",
    "    '''\n",
    "    df_gens = [df_file_generator(fname, nrows // nclasses, start_at, chunk_size, block_size, elide_not_recognized, forever) for fname in fnames]\n",
    "    return df_gen_resequenced(df_gen_sampled(df_gen_sum(df_gens)), block_size)\n",
    "\n",
    "# todo... not tested...\n",
    "def df_files_generator_proportional(fnames, nclasses, nrows, start_at, chunk_size, block_size, elide_not_recognized, forever):\n",
    "    datasizesum = sum([DATA_SIZES[fname] for fname in fnames])\n",
    "    df_gens = [df_file_generator(fname, nrows, start_at, chunk_size, int(block_size * DATA_SIZES[fname] / datasizesum), elide_not_recognized, forever) for fname in fnames]\n",
    "    return df_gen_resequenced(df_gen_sampled(df_gen_sum(df_gens)), block_size)\n",
    "\n",
    "\n",
    "# The above gives us generators over processed rows of the dataframes(for files), without using too much memory.\n",
    "\n",
    "\n",
    "# Now the code to map from dataframe rows to images and one-hots:\n",
    "\n",
    "def data_draw_cv2(raw_strokes, size=256, linewidth=6, time_color=True):\n",
    "    img = np.zeros((256, 256), np.uint8)\n",
    "    for t, stroke in enumerate(raw_strokes):\n",
    "        for i in range(len(stroke[0]) - 1):\n",
    "            color = 255 - min(t, 10) * 13 if time_color else 255\n",
    "            _ = cv2.line(img, (stroke[0][i], stroke[1][i]), \n",
    "                         (stroke[0][i + 1], stroke[1][i + 1]), color, linewidth)\n",
    "    if size != 256:\n",
    "        return cv2.resize(img, (size, size))\n",
    "    else:\n",
    "        return img\n",
    "    \n",
    "def data_one_hot(a, num_classes):\n",
    "    return np.squeeze(np.eye(num_classes)[a.reshape(-1)])\n",
    "\n",
    "def data_generate_batch_from_df(df, num_classes, batch_size, image_size, line_width):\n",
    "    for i in range(0, df.shape[0], batch_size):\n",
    "        y = data_one_hot(df['word_index'][i:i+batch_size].values, num_classes)\n",
    "        \n",
    "        x = np.zeros((y.shape[0], image_size, image_size))\n",
    "        for j, raw_strokes in enumerate(df.drawing[i:i+batch_size]):\n",
    "            x[j] = data_draw_cv2(raw_strokes, size=image_size, linewidth=line_width)\n",
    "        x = x / 255.\n",
    "        x = x.reshape((y.shape[0], image_size, image_size, 1)).astype(np.float32)\n",
    "        \n",
    "        yield (x, y)\n",
    "        \n",
    "def data_generator(df_generator, num_classes, batch_size, image_size, line_width):        \n",
    "    for df in df_generator:\n",
    "        for x, y in data_generate_batch_from_df(df, num_classes, batch_size, image_size, line_width):\n",
    "            yield x, y\n",
    "            \n",
    "def unify_df_to_data(name, fnames, nrows, nclasses, start_at, chunk_size, block_size, batch_size, image_size, line_width, elide_not_recognized, forever):\n",
    "    df_gen = df_files_generator_uniform(fnames, nclasses, nrows, start_at, chunk_size, block_size, elide_not_recognized, forever)\n",
    "    return data_generator(df_gen, nclasses, batch_size, image_size, line_width)\n",
    "\n",
    "\n",
    "# But wait! This will be cool: multiprocessing generators!\n",
    "\n",
    "def mp_process_generator_const(name, fnames, nrows, nclasses, start_at, chunk_size, block_size, batch_size, image_size, line_width, elide_not_recognized, forever):\n",
    "    '''returns a generator constructor that returns a generator that yields data, \n",
    "       in batches, for collection of classes (filenames)'''\n",
    "    \n",
    "    def generator(outputQueue):\n",
    "        g = unify_df_to_data(name, fnames, nrows, nclasses, start_at, chunk_size, block_size, batch_size, image_size, line_width, elide_not_recognized, forever)\n",
    "        for v in g:\n",
    "            outputQueue.put(v)\n",
    "        outputQueue.put(None)\n",
    "        \n",
    "    return generator\n",
    "\n",
    "\n",
    "def mp_generate_over_outputqueues(outputQueues, batch_size):\n",
    "    '''generates, in parallel, by reading from outputQueues\n",
    "       Shuffles and resequences along the way.'''\n",
    "    \n",
    "    done = False\n",
    "    while not done:\n",
    "        results = [oq.get() for oq in outputQueues]\n",
    "        # If any fail, just bail\n",
    "        done = any(res is None for res in results)\n",
    "        if not done:\n",
    "            # collect the data (images and one-hots), and shuffle the same way\n",
    "            images = np.concatenate([res[0] for res in results], axis=0)\n",
    "            onehots = np.concatenate([res[1] for res in results], axis=0)\n",
    "            s = np.arange(0, images.shape[0], 1)\n",
    "            np.random.shuffle(s)\n",
    "            images_shuffled = images[s]\n",
    "            onehots_shuffled = onehots[s]\n",
    "            \n",
    "            # resequence again - use the same batch size I guess...\n",
    "            for i in range(0, images_shuffled.shape[0], batch_size):\n",
    "                end = i + batch_size\n",
    "                yield (images_shuffled[i:end], onehots_shuffled[i:end])\n",
    "                \n",
    "# got lazy...\n",
    "def data_generator_resequenced(np_gen, batch_size):\n",
    "    acc_arr0 = None\n",
    "    acc_arr1 = None\n",
    "    for arr0, arr1 in np_gen:\n",
    "        acc_arr0 = arr0 if (acc_arr0 is None) else np.concatenate([acc_arr0, arr0])\n",
    "        acc_arr1 = arr1 if (acc_arr1 is None) else np.concatenate([acc_arr1, arr1])\n",
    "        if acc_arr0.shape[0] >= batch_size:\n",
    "            ret_arr0 = acc_arr0[:batch_size]\n",
    "            ret_arr1 = acc_arr1[:batch_size]\n",
    "            acc_arr0 = acc_arr0[batch_size:]\n",
    "            acc_arr1 = acc_arr1[batch_size:]\n",
    "            yield ret_arr0, ret_arr1\n",
    "    yield acc_arr0, acc_arr1\n",
    "  \n",
    "\n",
    "# Final multi-processing big hakuna!\n",
    "\n",
    "def mp_data_generator(cores = 4, \n",
    "                      fnames = TRAIN_FILE_NAMES, \n",
    "                      nclasses = NCLASSES, \n",
    "                      nrows = 3_000, \n",
    "                      start_at = 2_000, \n",
    "                      chunk_size = 2_000, \n",
    "                      block_size = 1_000, \n",
    "                      batch_size = 512, \n",
    "                      image_size=64, \n",
    "                      line_width = 6, \n",
    "                      elide_not_recognized = True, \n",
    "                      forever = False):\n",
    "    \n",
    "    ''' Generates images and one-hots from filenames, in parallel.\n",
    "        Partitions classes into Processes, each of which generates some data - herein collect and re-yield.\n",
    "       \n",
    "    Args:\n",
    "        cores (int): the number of physical cores to use\n",
    "        fnames ([str]): [filename]\n",
    "        nclasses (int): number of classes in total in use\n",
    "        nrows (int): number of rows to return in total\n",
    "        start_at (int): can be used to skip rows in each file, for example for validation/training data set\n",
    "        chunk_size (int): number of rows to read in each file in parallel\n",
    "        block_size (int): number of rows to yield from each file (probably < chunk_size, because it uses lots of memory and cpu)\n",
    "        batch_size (int): num samples to return per batch\n",
    "        image_size (int): size of square image\n",
    "        line_width (int): line width\n",
    "        elide_not_recognized (bool): whether we should skip the not_recognized rows\n",
    "        forever (bool): whether this should generate forever\n",
    "    '''\n",
    "\n",
    "    # Partition data\n",
    "    n = math.ceil(len(fnames) / cores)\n",
    "    partitions = [fnames[i:i + n] for i in range(0, len(fnames), n)]\n",
    "    max_part_length = max([len(part) for part in partitions])\n",
    "    \n",
    "    # create output queues and processes\n",
    "    outputQueues = [Queue(2) for _ in range(len(partitions))]\n",
    "    procs = [Process(target=mp_process_generator_const(str(i), fname_parts, nrows, nclasses, start_at, \n",
    "                                                 chunk_size, block_size, \n",
    "                                                 math.ceil(batch_size * len(fname_parts) / max_part_length), \n",
    "                                                 image_size, line_width, elide_not_recognized, forever), \n",
    "                     args=(outputQueues[i],)) \n",
    "                 for i, fname_parts in enumerate(partitions)]\n",
    "    \n",
    "    # start the processes\n",
    "    for proc in procs:\n",
    "        proc.start()\n",
    "        \n",
    "    # collect data from the processes until any one of them finishes\n",
    "    mp_datagen = mp_generate_over_outputqueues(outputQueues, batch_size)\n",
    "    for x, y in data_generator_resequenced(mp_datagen, batch_size):\n",
    "        yield x, y\n",
    "            \n",
    "    # oh no Anakin!\n",
    "    for proc in procs:\n",
    "        proc.terminate() # .join()?\n"
   ]
  },
  {
   "cell_type": "markdown",
   "metadata": {},
   "source": [
    "...and that's aboout all you need!\n",
    "\n",
    "## Testing and timing below"
   ]
  },
  {
   "cell_type": "code",
   "execution_count": 4,
   "metadata": {},
   "outputs": [],
   "source": [
    "def show_counter_histogram(counts):\n",
    "    sorted_counts = sorted(counts.items(), key=lambda ic: ic[0])\n",
    "    labels, values = zip(*sorted_counts)\n",
    "    indexes = np.arange(len(labels))\n",
    "    width = 1\n",
    "    plt.plot(indexes, values, '*', width)\n",
    "    plt.show()\n",
    "\n",
    "def show_images_and_words(n, x, y, cols=8):\n",
    "    rows = n // cols\n",
    "    fig, axs = plt.subplots(nrows=rows, ncols=cols, sharex=True, sharey=True, figsize=(cols, rows * 1))\n",
    "    for i in range(rows):\n",
    "        for j in range(cols):\n",
    "            ax = axs[i, j]\n",
    "            ax.imshow((-x[i*cols+j, :, :, 0] + 1)/2, cmap=plt.cm.gray)\n",
    "            ax.axis('off')\n",
    "            k = INDEXES_TO_WORDS[np.argmax(y[i*cols+j])]\n",
    "            ax.set_title(k)\n",
    "    plt.show();\n",
    "    \n",
    "def test_datagen(datagen, plot_on):\n",
    "    start = timer()\n",
    "    totalrows = 0\n",
    "    counts = collections.Counter()\n",
    "    for i, (x, y) in enumerate(datagen):\n",
    "        counts += collections.Counter(np.argmax(y, axis=1))\n",
    "        totalrows += x.shape[0]\n",
    "    duration = timer() - start\n",
    "\n",
    "    if plot_on:\n",
    "        print(f'duration: {duration}, total rows: {totalrows:_}, final batch index: {i}, final x.shape: {x.shape}, final y.shape: {y.shape}')\n",
    "        print('\\nclass counts:')\n",
    "        show_counter_histogram(counts)\n",
    "        print('first 24 samples:')\n",
    "        show_images_and_words(24, x, y, cols=8)\n",
    "        \n",
    "    return duration, totalrows, i, x, y, counts\n",
    "\n",
    "def test_mp_datagen(nclasses, rowsperclass, cores, plot_on):\n",
    "    fnames = TRAIN_FILE_NAMES[:nclasses]\n",
    "    bfg = mp_data_generator(cores, fnames, nclasses, \n",
    "                            nrows=nclasses*rowsperclass, \n",
    "                            start_at=2_000, \n",
    "                            chunk_size=2_000, \n",
    "                            block_size=1_000, \n",
    "                            batch_size=512, \n",
    "                            image_size=64, \n",
    "                            line_width=6, \n",
    "                            elide_not_recognized=True,\n",
    "                            forever=False)\n",
    "    return test_datagen(bfg, plot_on)\n",
    "\n",
    "def test_nomp_datagen(nclasses, rowsperclass, plot_on):\n",
    "    fnames = TRAIN_FILE_NAMES[:nclasses]\n",
    "    dfg = df_files_generator_uniform(fnames, nclasses, \n",
    "                                       nrows=nclasses*rowsperclass, \n",
    "                                       start_at=2_000, \n",
    "                                       chunk_size=2_000, \n",
    "                                       block_size=1_000, \n",
    "                                       elide_not_recognized=True,\n",
    "                                       forever=False)\n",
    "    datagen = data_generator(dfg, nclasses, \n",
    "                             batch_size=512, \n",
    "                             image_size=64, \n",
    "                             line_width=6)\n",
    "    return test_datagen(datagen, plot_on)"
   ]
  },
  {
   "cell_type": "markdown",
   "metadata": {},
   "source": [
    "### Sanity test of single-threaded data generator"
   ]
  },
  {
   "cell_type": "code",
   "execution_count": 5,
   "metadata": {
    "scrolled": false
   },
   "outputs": [
    {
     "name": "stdout",
     "output_type": "stream",
     "text": [
      "duration: 9.338320162147284, total rows: 34_000, final batch index: 66, final x.shape: (232, 64, 64, 1), final y.shape: (232, 34)\n",
      "\n",
      "class counts:\n"
     ]
    },
    {
     "data": {
      "image/png": "[encoded data removed]",
      "text/plain": [
       "<Figure size 432x288 with 1 Axes>"
      ]
     },
     "metadata": {},
     "output_type": "display_data"
    },
    {
     "name": "stdout",
     "output_type": "stream",
     "text": [
      "first 24 samples:\n"
     ]
    },
    {
     "data": {
      "image/png": "[encoded data removed]",
      "text/plain": [
       "<Figure size 576x216 with 24 Axes>"
      ]
     },
     "metadata": {},
     "output_type": "display_data"
    },
    {
     "name": "stdout",
     "output_type": "stream",
     "text": [
      "CPU times: user 9.6 s, sys: 1.45 s, total: 11 s\n",
      "Wall time: 10.1 s\n"
     ]
    }
   ],
   "source": [
    "%time _ = test_nomp_datagen(34, 1_000, plot_on=True)"
   ]
  },
  {
   "cell_type": "markdown",
   "metadata": {},
   "source": [
    "### Sanity test of multi-process data generator:"
   ]
  },
  {
   "cell_type": "code",
   "execution_count": 6,
   "metadata": {
    "scrolled": true
   },
   "outputs": [
    {
     "name": "stdout",
     "output_type": "stream",
     "text": [
      "duration: 5.0847876612097025, total rows: 34_000, final batch index: 66, final x.shape: (208, 64, 64, 1), final y.shape: (208, 34)\n",
      "\n",
      "class counts:\n"
     ]
    },
    {
     "data": {
      "image/png": "[encoded data removed]",
      "text/plain": [
       "<Figure size 432x288 with 1 Axes>"
      ]
     },
     "metadata": {},
     "output_type": "display_data"
    },
    {
     "name": "stdout",
     "output_type": "stream",
     "text": [
      "first 24 samples:\n"
     ]
    },
    {
     "data": {
      "image/png": "[encoded data removed]",
      "text/plain": [
       "<Figure size 576x216 with 24 Axes>"
      ]
     },
     "metadata": {},
     "output_type": "display_data"
    },
    {
     "name": "stdout",
     "output_type": "stream",
     "text": [
      "CPU times: user 1.9 s, sys: 1.26 s, total: 3.17 s\n",
      "Wall time: 5.92 s\n"
     ]
    }
   ],
   "source": [
    "%time _ = test_mp_datagen(34, 1_000, cores=2, plot_on=True)"
   ]
  },
  {
   "cell_type": "markdown",
   "metadata": {},
   "source": [
    "## Generate timing info for no multiprocessing, and then mp with more and more cores"
   ]
  },
  {
   "cell_type": "code",
   "execution_count": 7,
   "metadata": {},
   "outputs": [
    {
     "name": "stdout",
     "output_type": "stream",
     "text": [
      "STARTING NO MP TEST ...\n",
      "    DONE: 1020000 rows in 236.02 seconds\n",
      "STARTING MP TEST 1 CORE ...\n",
      "    DONE: 1020000 rows in 245.33 seconds\n",
      "STARTING MP TEST 2 CORE ...\n",
      "    DONE: 1020000 rows in 129.39 seconds\n",
      "STARTING MP TEST 3 CORE ...\n",
      "    DONE: 1018864 rows in 90.73 seconds\n",
      "STARTING MP TEST 4 CORE ...\n",
      "    DONE: 1020000 rows in 79.01 seconds\n",
      "STARTING MP TEST 5 CORE ...\n",
      "    DONE: 1020000 rows in 73.49 seconds\n",
      "STARTING MP TEST 6 CORE ...\n",
      "    DONE: 1019370 rows in 73.13 seconds\n",
      "STARTING MP TEST 7 CORE ...\n",
      "    DONE: 1019199 rows in 73.48 seconds\n",
      "STARTING MP TEST 8 CORE ...\n",
      "    DONE: 1019460 rows in 76.78 seconds\n"
     ]
    },
    {
     "data": {
      "image/png": "[encoded data removed]",
      "text/plain": [
       "<Figure size 432x288 with 1 Axes>"
      ]
     },
     "metadata": {},
     "output_type": "display_data"
    },
    {
     "name": "stdout",
     "output_type": "stream",
     "text": [
      "6\n",
      "MAX SPEEDUP IS WITH 6 CORES, TOTAL SPEEDUP: 3.228\n"
     ]
    }
   ],
   "source": [
    "nclasses = 340\n",
    "rowsperclass = 3_000\n",
    "max_cores = 8\n",
    "sleep_dur = 10\n",
    "\n",
    "print('STARTING NO MP TEST ...')\n",
    "duration0, rows, _, _, _, counts = test_nomp_datagen(nclasses, rowsperclass, plot_on=False)\n",
    "print(f'    DONE: {rows} rows in {duration0:.2f} seconds')\n",
    "\n",
    "durations = []\n",
    "for i in range(max_cores):\n",
    "    time.sleep(sleep_dur)\n",
    "    print(f'STARTING MP TEST {i+1} CORE ...')\n",
    "    duration, rows, _, _, _, counts = test_mp_datagen(nclasses, rowsperclass, i+1, plot_on=False)\n",
    "    durations.append(duration)\n",
    "    print(f'    DONE: {rows} rows in {duration:.2f} seconds')\n",
    "\n",
    "plt.plot([i+1 for i in range(len(durations))], durations, 's', label='multiprocess')\n",
    "plt.plot([1, len(durations)], [duration0, duration0], label='singleprocess')\n",
    "plt.ylim((0, math.ceil(max(durations))))\n",
    "plt.xticks([i+1 for i in range(len(durations))])\n",
    "plt.ylabel('time (seconds)')\n",
    "plt.xlabel('# cores')\n",
    "plt.legend()\n",
    "plt.show()\n",
    "fastest_core = int(np.argmin(durations)+1)\n",
    "print(fastest_core)\n",
    "print(f'MAX SPEEDUP IS WITH {fastest_core} CORES, TOTAL SPEEDUP: {duration0/durations[fastest_core-1]:.3f}')"
   ]
  },
  {
   "cell_type": "markdown",
   "metadata": {},
   "source": [
    "#### For good measure, draw histogram of last counts"
   ]
  },
  {
   "cell_type": "code",
   "execution_count": 8,
   "metadata": {},
   "outputs": [
    {
     "data": {
      "image/png": "[encoded data removed]",
      "text/plain": [
       "<Figure size 432x288 with 1 Axes>"
      ]
     },
     "metadata": {},
     "output_type": "display_data"
    }
   ],
   "source": [
    "show_counter_histogram(counts)"
   ]
  }
 ],
 "metadata": {
  "kernelspec": {
   "display_name": "Python 3",
   "language": "python",
   "name": "python3"
  },
  "language_info": {
   "codemirror_mode": {
    "name": "ipython",
    "version": 3
   },
   "file_extension": ".py",
   "mimetype": "text/x-python",
   "name": "python",
   "nbconvert_exporter": "python",
   "pygments_lexer": "ipython3",
   "version": "3.6.3"
  }
 },
 "nbformat": 4,
 "nbformat_minor": 2
}
